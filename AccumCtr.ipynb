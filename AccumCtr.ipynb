{
 "cells": [
  {
   "cell_type": "code",
   "execution_count": 1,
   "metadata": {},
   "outputs": [],
   "source": [
    "from Read_data import ReadINCAFile\n",
    "from BaseBlocks import *\n",
    "from BaseClasses import Block, Connection\n",
    "from SimulationClass import Simulation\n",
    "from SimulinkBlockClass import SimulinkBlock"
   ]
  },
  {
   "cell_type": "code",
   "execution_count": null,
   "metadata": {},
   "outputs": [],
   "source": [
    "class AccumCtr(SimulinkBlock):\n",
    "    def __init__(self, name, entry, Tol, I, DevMax, r, MxL, ValT, Ctr, Val):\n",
    "        super().__init__(name, [entry, Tol, I, DevMax, r, MxL, ValT], [Ctr, Val])\n",
    "\n",
    "        self.node = [{'data':{'id':name,'label':'AccumCtr'}}] \\\n",
    "            + [{'data': {'id': self.name + '_' + i, 'parent': self.name,'label':i}} for i in self.inputs_list] \\\n",
    "            + [{'data': {'id': self.name + '_' + i, 'parent': self.name,'label':i}} for i in self.outputs_list]\n",
    "\n",
    "        self.addEntryCondition(EntryCondition(name='entry',entrySignal=entry))\n",
    "        \n",
    "        self.addBlock(Min(name='min1',signal1='delayedCtr',signal2=Tol,output='min1'))\n",
    "        \n",
    "        self.addBlock(Constant(name='Constant1',value=0))\n",
    "        self.addBlock(Max(name='max1',signal1=I,signal2='Constant1',output='max1'))\n",
    "\n",
    "        self.addBlock(Subtract(name='sub1',pos='max1',neg='min1',output='sub1'))\n",
    "\n",
    "        self.addBlock(Min(name='min2',signal1='sub1',signal2=DevMax,output='min2'))\n",
    "\n",
    "        self.addBlock(Add(name='add1',pos1='delayedCtr',pos2='min2',output='add1'))\n",
    "\n",
    "        self.addBlock(Constant(name='Constant3',value=0))\n",
    "        self.addBlock(Max(name='max3',signal1='add1',signal2='Constant3',output='max3'))\n",
    "\n",
    "        self.addBlock(Min(name='min3',signal1='max3',signal2='div1',output='min3'))\n",
    "\n",
    "        self.addBlock(Constant(name='Constant4',value=0))\n",
    "        self.addBlock(Switch(name='switchCtr',switched='Constant4',default='min3',condition=r,output='ctr1'))\n",
    "\n",
    "        self.addBlock(Delay(name='delayCtr',signalIn='ctr1',signalOut='delayedCtr'))\n",
    "        \n",
    "        self.addBlock(Multiply(name='mul1',factor1='ctr1',factor2='ts',output=Ctr))\n",
    "\n",
    "        self.addBlock(SampleTime(name='ts',value=0.04))\n",
    "        self.addBlock(Divide(name='div1',numerator=MxL,denominator='ts', output='div1'))\n",
    "\n",
    "        self.addBlock(Add(name='add2',pos1='ts',pos2='delayVal',output='add2'))\n",
    "\n",
    "        self.addBlock(Constant(name='Constant5',value=0))\n",
    "        self.addBlock(Switch(name='switchVal',switched='Constant5',default='add2',condition=r,output='switchVal'))\n",
    "        \n",
    "        self.addBlock(Min(name='min4',signal1='switchVal',signal2=ValT,output='min4'))\n",
    "        self.addBlock(Delay(name='delayVal',signalIn='min4',signalOut='delayVal'))\n",
    "\n",
    "        self.addBlock(GreaterThanOrEqual(name='geq',first='switchVal',second=ValT,output=Val))\n",
    "\n",
    "        self.compileBlock()"
   ]
  },
  {
   "cell_type": "code",
   "execution_count": 3,
   "metadata": {},
   "outputs": [
    {
     "name": "stderr",
     "output_type": "stream",
     "text": [
      "100%|██████████| 1/1 [00:04<00:00,  4.11s/it]\n"
     ]
    },
    {
     "data": {
      "application/vnd.microsoft.datawrangler.viewer.v0+json": {
       "columns": [
        {
         "name": "index",
         "rawType": "int64",
         "type": "integer"
        },
        {
         "name": "rVcAesVntPosnM_X_DiffPosn",
         "rawType": "float32",
         "type": "float"
        },
        {
         "name": "xVcAesVntPosnM_B_Entry",
         "rawType": "float64",
         "type": "float"
        },
        {
         "name": "rVcAesVntPosnM_X_AccuDev",
         "rawType": "float32",
         "type": "float"
        },
        {
         "name": "yVcObdCmn_B_ObdInitReq",
         "rawType": "float64",
         "type": "float"
        }
       ],
       "conversionMethod": "pd.DataFrame",
       "ref": "d34ffbde-4a03-4fbc-acff-2d2c157b8aaf",
       "rows": [
        [
         "0",
         "0.22013855",
         "1.0",
         "0.008805542",
         "0.0"
        ],
        [
         "1",
         "0.1793747",
         "1.0",
         "0.007174988",
         "0.0"
        ],
        [
         "2",
         "0.13860321",
         "1.0",
         "0.0055441284",
         "0.0"
        ],
        [
         "3",
         "0.1793747",
         "1.0",
         "0.007174988",
         "0.0"
        ],
        [
         "4",
         "0.13860321",
         "1.0",
         "0.0055441284",
         "0.0"
        ],
        [
         "5",
         "0.1793747",
         "1.0",
         "0.007174988",
         "0.0"
        ],
        [
         "6",
         "0.13860321",
         "1.0",
         "0.0055441284",
         "0.0"
        ],
        [
         "7",
         "0.1793747",
         "1.0",
         "0.007174988",
         "0.0"
        ],
        [
         "8",
         "0.13860321",
         "1.0",
         "0.0055441284",
         "0.0"
        ],
        [
         "9",
         "0.1793747",
         "1.0",
         "0.007174988",
         "0.0"
        ],
        [
         "10",
         "0.13860321",
         "1.0",
         "0.0055441284",
         "0.0"
        ],
        [
         "11",
         "0.1793747",
         "1.0",
         "0.007174988",
         "0.0"
        ],
        [
         "12",
         "0.13860321",
         "1.0",
         "0.0055441284",
         "0.0"
        ],
        [
         "13",
         "0.09783554",
         "1.0",
         "0.0039134216",
         "0.0"
        ],
        [
         "14",
         "0.13860321",
         "1.0",
         "0.0055441284",
         "0.0"
        ],
        [
         "15",
         "0.1793747",
         "1.0",
         "0.007174988",
         "0.0"
        ],
        [
         "16",
         "0.13860321",
         "1.0",
         "0.0055441284",
         "0.0"
        ],
        [
         "17",
         "0.1793747",
         "1.0",
         "0.007174988",
         "0.0"
        ],
        [
         "18",
         "0.13860321",
         "1.0",
         "0.0055441284",
         "0.0"
        ],
        [
         "19",
         "0.09783554",
         "1.0",
         "0.0039134216",
         "0.0"
        ],
        [
         "20",
         "0.13860321",
         "1.0",
         "0.0055441284",
         "0.0"
        ],
        [
         "21",
         "0.09783554",
         "1.0",
         "0.0039134216",
         "0.0"
        ],
        [
         "22",
         "0.13860321",
         "1.0",
         "0.0055441284",
         "0.0"
        ],
        [
         "23",
         "0.09783554",
         "1.0",
         "0.0039134216",
         "0.0"
        ],
        [
         "24",
         "0.13860321",
         "1.0",
         "0.0055441284",
         "0.0"
        ],
        [
         "25",
         "0.1793747",
         "1.0",
         "0.007174988",
         "0.0"
        ],
        [
         "26",
         "0.13860321",
         "1.0",
         "0.0055441284",
         "0.0"
        ],
        [
         "27",
         "0.09783554",
         "1.0",
         "0.0039134216",
         "0.0"
        ],
        [
         "28",
         "0.13860321",
         "1.0",
         "0.0055441284",
         "0.0"
        ],
        [
         "29",
         "0.09783554",
         "1.0",
         "0.0039134216",
         "0.0"
        ],
        [
         "30",
         "0.057071686",
         "1.0",
         "0.0022828674",
         "0.0"
        ],
        [
         "31",
         "0.09783554",
         "1.0",
         "0.0039134216",
         "0.0"
        ],
        [
         "32",
         "0.057071686",
         "1.0",
         "0.0022828674",
         "0.0"
        ],
        [
         "33",
         "0.09783554",
         "1.0",
         "0.0039134216",
         "0.0"
        ],
        [
         "34",
         "0.057071686",
         "1.0",
         "0.0022828674",
         "0.0"
        ],
        [
         "35",
         "0.09783554",
         "1.0",
         "0.0039134216",
         "0.0"
        ],
        [
         "36",
         "0.057071686",
         "1.0",
         "0.0022828674",
         "0.0"
        ],
        [
         "37",
         "0.09783554",
         "1.0",
         "0.0039134216",
         "0.0"
        ],
        [
         "38",
         "0.057071686",
         "1.0",
         "0.0022828674",
         "0.0"
        ],
        [
         "39",
         "0.09783554",
         "1.0",
         "0.0039134216",
         "0.0"
        ],
        [
         "40",
         "0.057071686",
         "1.0",
         "0.0022828674",
         "0.0"
        ],
        [
         "41",
         "0.09783554",
         "1.0",
         "0.0039134216",
         "0.0"
        ],
        [
         "42",
         "0.057071686",
         "1.0",
         "0.0022828674",
         "0.0"
        ],
        [
         "43",
         "0.09783554",
         "1.0",
         "0.0039134216",
         "0.0"
        ],
        [
         "44",
         "0.057071686",
         "1.0",
         "0.0022828674",
         "0.0"
        ],
        [
         "45",
         "0.09783554",
         "1.0",
         "0.0039134216",
         "0.0"
        ],
        [
         "46",
         "0.057071686",
         "1.0",
         "0.0022828674",
         "0.0"
        ],
        [
         "47",
         "0.09783554",
         "1.0",
         "0.0039134216",
         "0.0"
        ],
        [
         "48",
         "0.057071686",
         "1.0",
         "0.0022828674",
         "0.0"
        ],
        [
         "49",
         "0.09783554",
         "1.0",
         "0.0039134216",
         "0.0"
        ]
       ],
       "shape": {
        "columns": 4,
        "rows": 132821
       }
      },
      "text/html": [
       "<div>\n",
       "<style scoped>\n",
       "    .dataframe tbody tr th:only-of-type {\n",
       "        vertical-align: middle;\n",
       "    }\n",
       "\n",
       "    .dataframe tbody tr th {\n",
       "        vertical-align: top;\n",
       "    }\n",
       "\n",
       "    .dataframe thead th {\n",
       "        text-align: right;\n",
       "    }\n",
       "</style>\n",
       "<table border=\"1\" class=\"dataframe\">\n",
       "  <thead>\n",
       "    <tr style=\"text-align: right;\">\n",
       "      <th></th>\n",
       "      <th>rVcAesVntPosnM_X_DiffPosn</th>\n",
       "      <th>xVcAesVntPosnM_B_Entry</th>\n",
       "      <th>rVcAesVntPosnM_X_AccuDev</th>\n",
       "      <th>yVcObdCmn_B_ObdInitReq</th>\n",
       "    </tr>\n",
       "  </thead>\n",
       "  <tbody>\n",
       "    <tr>\n",
       "      <th>0</th>\n",
       "      <td>0.220139</td>\n",
       "      <td>1.0</td>\n",
       "      <td>0.008806</td>\n",
       "      <td>0.0</td>\n",
       "    </tr>\n",
       "    <tr>\n",
       "      <th>1</th>\n",
       "      <td>0.179375</td>\n",
       "      <td>1.0</td>\n",
       "      <td>0.007175</td>\n",
       "      <td>0.0</td>\n",
       "    </tr>\n",
       "    <tr>\n",
       "      <th>2</th>\n",
       "      <td>0.138603</td>\n",
       "      <td>1.0</td>\n",
       "      <td>0.005544</td>\n",
       "      <td>0.0</td>\n",
       "    </tr>\n",
       "    <tr>\n",
       "      <th>3</th>\n",
       "      <td>0.179375</td>\n",
       "      <td>1.0</td>\n",
       "      <td>0.007175</td>\n",
       "      <td>0.0</td>\n",
       "    </tr>\n",
       "    <tr>\n",
       "      <th>4</th>\n",
       "      <td>0.138603</td>\n",
       "      <td>1.0</td>\n",
       "      <td>0.005544</td>\n",
       "      <td>0.0</td>\n",
       "    </tr>\n",
       "    <tr>\n",
       "      <th>...</th>\n",
       "      <td>...</td>\n",
       "      <td>...</td>\n",
       "      <td>...</td>\n",
       "      <td>...</td>\n",
       "    </tr>\n",
       "    <tr>\n",
       "      <th>132816</th>\n",
       "      <td>2.468430</td>\n",
       "      <td>1.0</td>\n",
       "      <td>0.098737</td>\n",
       "      <td>0.0</td>\n",
       "    </tr>\n",
       "    <tr>\n",
       "      <th>132817</th>\n",
       "      <td>4.257301</td>\n",
       "      <td>1.0</td>\n",
       "      <td>0.170292</td>\n",
       "      <td>0.0</td>\n",
       "    </tr>\n",
       "    <tr>\n",
       "      <th>132818</th>\n",
       "      <td>2.396923</td>\n",
       "      <td>1.0</td>\n",
       "      <td>0.095877</td>\n",
       "      <td>0.0</td>\n",
       "    </tr>\n",
       "    <tr>\n",
       "      <th>132819</th>\n",
       "      <td>10.358604</td>\n",
       "      <td>1.0</td>\n",
       "      <td>0.295877</td>\n",
       "      <td>0.0</td>\n",
       "    </tr>\n",
       "    <tr>\n",
       "      <th>132820</th>\n",
       "      <td>6.109451</td>\n",
       "      <td>1.0</td>\n",
       "      <td>0.340255</td>\n",
       "      <td>0.0</td>\n",
       "    </tr>\n",
       "  </tbody>\n",
       "</table>\n",
       "<p>132821 rows × 4 columns</p>\n",
       "</div>"
      ],
      "text/plain": [
       "        rVcAesVntPosnM_X_DiffPosn  xVcAesVntPosnM_B_Entry  \\\n",
       "0                        0.220139                     1.0   \n",
       "1                        0.179375                     1.0   \n",
       "2                        0.138603                     1.0   \n",
       "3                        0.179375                     1.0   \n",
       "4                        0.138603                     1.0   \n",
       "...                           ...                     ...   \n",
       "132816                   2.468430                     1.0   \n",
       "132817                   4.257301                     1.0   \n",
       "132818                   2.396923                     1.0   \n",
       "132819                  10.358604                     1.0   \n",
       "132820                   6.109451                     1.0   \n",
       "\n",
       "        rVcAesVntPosnM_X_AccuDev  yVcObdCmn_B_ObdInitReq  \n",
       "0                       0.008806                     0.0  \n",
       "1                       0.007175                     0.0  \n",
       "2                       0.005544                     0.0  \n",
       "3                       0.007175                     0.0  \n",
       "4                       0.005544                     0.0  \n",
       "...                          ...                     ...  \n",
       "132816                  0.098737                     0.0  \n",
       "132817                  0.170292                     0.0  \n",
       "132818                  0.095877                     0.0  \n",
       "132819                  0.295877                     0.0  \n",
       "132820                  0.340255                     0.0  \n",
       "\n",
       "[132821 rows x 4 columns]"
      ]
     },
     "execution_count": 3,
     "metadata": {},
     "output_type": "execute_result"
    }
   ],
   "source": [
    "data = ReadINCAFile('vnt_data/',['rVcAesVntPosnM_X_DiffPosn','xVcAesVntPosnM_B_Entry','rVcAesVntPosnM_X_AccuDev'])\n",
    "data['yVcObdCmn_B_ObdInitReq'] = 0\n",
    "data = data.where((data['rVcAesVntPosnM_X_DiffPosn'].diff() != 0) & (data['xVcAesVntPosnM_B_Entry'] == 1)).dropna(ignore_index=True)\n",
    "data"
   ]
  },
  {
   "cell_type": "code",
   "execution_count": 4,
   "metadata": {},
   "outputs": [
    {
     "name": "stdout",
     "output_type": "stream",
     "text": [
      "\u001b[32mAccumCtr compiled successfully!\u001b[0m\n",
      "\u001b[32mNested block compiled successfully!\u001b[0m\n",
      "X_DiffTol calibrated to [1 2 3 4 5]\n",
      "X_DevMax calibrated to [1 2 3 4 5]\n",
      "t_MaxL calibrated to [80]\n",
      "t_Val calibrated to [5 6]\n"
     ]
    }
   ],
   "source": [
    "block = SimulinkBlock(name='Nested block',inputs=['rVcAesVntPosnM_X_DiffPosn','xVcAesVntPosnM_B_Entry','yVcObdCmn_B_ObdInitReq'], outputs=['X_Accudev','B_EvalVld'])\n",
    "\n",
    "block.addCalibrationParameter(Parameter(name='X_DiffTol'))\n",
    "block.addCalibrationParameter(Parameter(name='X_DevMax'))\n",
    "block.addCalibrationParameter(Parameter(name='t_MaxL'))\n",
    "block.addCalibrationParameter(Parameter(name='t_Val'))\n",
    "\n",
    "block.addBlock(AccumCtr(name='AccumCtr',entry='xVcAesVntPosnM_B_Entry',Tol='X_DiffTol',I='rVcAesVntPosnM_X_DiffPosn',DevMax='X_DevMax',r='yVcObdCmn_B_ObdInitReq',MxL='t_MaxL',ValT='t_Val',Ctr='X_Accudev',Val='B_EvalVld'))\n",
    "\n",
    "block.compileBlock()\n",
    "\n",
    "simulation = Simulation(sim=block,data=data)\n",
    "simulation.setCalibration(X_DiffTol=np.arange(1,6),\n",
    "                          X_DevMax=np.arange(1,6),\n",
    "                          t_MaxL=[80],\n",
    "                          t_Val=np.arange(5,7))"
   ]
  },
  {
   "cell_type": "code",
   "execution_count": 5,
   "metadata": {},
   "outputs": [
    {
     "name": "stderr",
     "output_type": "stream",
     "text": [
      "132821it [00:23, 5742.26it/s]\n"
     ]
    }
   ],
   "source": [
    "simulation.runSimulation()"
   ]
  },
  {
   "cell_type": "code",
   "execution_count": 7,
   "metadata": {},
   "outputs": [
    {
     "data": {
      "application/vnd.plotly.v1+json": {
       "config": {
        "plotlyServerURL": "https://plot.ly"
       },
       "data": [
        {
         "dimensions": [
          {
           "label": "X_DiffTol",
           "values": [
            1,
            1,
            1,
            1,
            1,
            1,
            1,
            1,
            1,
            1,
            2,
            2,
            2,
            2,
            2,
            2,
            2,
            2,
            2,
            2,
            3,
            3,
            3,
            3,
            3,
            3,
            3,
            3,
            3,
            3,
            4,
            4,
            4,
            4,
            4,
            4,
            4,
            4,
            4,
            4,
            5,
            5,
            5,
            5,
            5,
            5,
            5,
            5,
            5,
            5
           ]
          },
          {
           "label": "X_DevMax",
           "values": [
            1,
            1,
            2,
            2,
            3,
            3,
            4,
            4,
            5,
            5,
            1,
            1,
            2,
            2,
            3,
            3,
            4,
            4,
            5,
            5,
            1,
            1,
            2,
            2,
            3,
            3,
            4,
            4,
            5,
            5,
            1,
            1,
            2,
            2,
            3,
            3,
            4,
            4,
            5,
            5,
            1,
            1,
            2,
            2,
            3,
            3,
            4,
            4,
            5,
            5
           ]
          },
          {
           "label": "t_MaxL",
           "values": [
            80,
            80,
            80,
            80,
            80,
            80,
            80,
            80,
            80,
            80,
            80,
            80,
            80,
            80,
            80,
            80,
            80,
            80,
            80,
            80,
            80,
            80,
            80,
            80,
            80,
            80,
            80,
            80,
            80,
            80,
            80,
            80,
            80,
            80,
            80,
            80,
            80,
            80,
            80,
            80,
            80,
            80,
            80,
            80,
            80,
            80,
            80,
            80,
            80,
            80
           ]
          },
          {
           "label": "t_Val",
           "values": [
            5,
            6,
            5,
            6,
            5,
            6,
            5,
            6,
            5,
            6,
            5,
            6,
            5,
            6,
            5,
            6,
            5,
            6,
            5,
            6,
            5,
            6,
            5,
            6,
            5,
            6,
            5,
            6,
            5,
            6,
            5,
            6,
            5,
            6,
            5,
            6,
            5,
            6,
            5,
            6,
            5,
            6,
            5,
            6,
            5,
            6,
            5,
            6,
            5,
            6
           ]
          },
          {
           "label": "max_X_Accudev",
           "values": [
            11.533453311920166,
            11.533453311920166,
            79.9800049987503,
            79.9800049987503,
            79.9800049987503,
            79.9800049987503,
            79.9800049987503,
            79.9800049987503,
            79.9800049987503,
            79.9800049987503,
            1.0718662643432617,
            1.0718662643432617,
            3.172286434173584,
            3.172286434173584,
            5.18805461883545,
            5.18805461883545,
            7.47059196472168,
            7.47059196472168,
            10.331920013427734,
            10.331920013427734,
            0.9551286697387695,
            0.9551286697387695,
            1.793824806213379,
            1.793824806213379,
            2.535276679992676,
            2.535276679992676,
            3.234057197570801,
            3.234057197570801,
            3.84996208190918,
            3.84996208190918,
            0.6960840225219727,
            0.6960840225219727,
            1.4861708450317384,
            1.4861708450317384,
            2.194057197570801,
            2.194057197570801,
            2.80996208190918,
            2.80996208190918,
            3.3514551544189453,
            3.3514551544189453,
            0.43326141357421877,
            0.43326141357421877,
            1.1449513626098633,
            1.1449513626098633,
            1.7699620819091797,
            1.7699620819091797,
            2.3114551544189452,
            2.3114551544189452,
            2.7027811431884765,
            2.7027811431884765
           ]
          }
         ],
         "line": {
          "color": [
           11.533453311920166,
           11.533453311920166,
           79.9800049987503,
           79.9800049987503,
           79.9800049987503,
           79.9800049987503,
           79.9800049987503,
           79.9800049987503,
           79.9800049987503,
           79.9800049987503,
           1.0718662643432617,
           1.0718662643432617,
           3.172286434173584,
           3.172286434173584,
           5.18805461883545,
           5.18805461883545,
           7.47059196472168,
           7.47059196472168,
           10.331920013427734,
           10.331920013427734,
           0.9551286697387695,
           0.9551286697387695,
           1.793824806213379,
           1.793824806213379,
           2.535276679992676,
           2.535276679992676,
           3.234057197570801,
           3.234057197570801,
           3.84996208190918,
           3.84996208190918,
           0.6960840225219727,
           0.6960840225219727,
           1.4861708450317384,
           1.4861708450317384,
           2.194057197570801,
           2.194057197570801,
           2.80996208190918,
           2.80996208190918,
           3.3514551544189453,
           3.3514551544189453,
           0.43326141357421877,
           0.43326141357421877,
           1.1449513626098633,
           1.1449513626098633,
           1.7699620819091797,
           1.7699620819091797,
           2.3114551544189452,
           2.3114551544189452,
           2.7027811431884765,
           2.7027811431884765
          ],
          "colorscale": [
           [
            0,
            "#440154"
           ],
           [
            0.1111111111111111,
            "#482878"
           ],
           [
            0.2222222222222222,
            "#3e4989"
           ],
           [
            0.3333333333333333,
            "#31688e"
           ],
           [
            0.4444444444444444,
            "#26828e"
           ],
           [
            0.5555555555555556,
            "#1f9e89"
           ],
           [
            0.6666666666666666,
            "#35b779"
           ],
           [
            0.7777777777777778,
            "#6ece58"
           ],
           [
            0.8888888888888888,
            "#b5de2b"
           ],
           [
            1,
            "#fde725"
           ]
          ],
          "showscale": true
         },
         "type": "parcoords"
        }
       ],
       "layout": {
        "font": {
         "size": 20
        },
        "height": 800,
        "template": {
         "data": {
          "bar": [
           {
            "error_x": {
             "color": "#2a3f5f"
            },
            "error_y": {
             "color": "#2a3f5f"
            },
            "marker": {
             "line": {
              "color": "#E5ECF6",
              "width": 0.5
             },
             "pattern": {
              "fillmode": "overlay",
              "size": 10,
              "solidity": 0.2
             }
            },
            "type": "bar"
           }
          ],
          "barpolar": [
           {
            "marker": {
             "line": {
              "color": "#E5ECF6",
              "width": 0.5
             },
             "pattern": {
              "fillmode": "overlay",
              "size": 10,
              "solidity": 0.2
             }
            },
            "type": "barpolar"
           }
          ],
          "carpet": [
           {
            "aaxis": {
             "endlinecolor": "#2a3f5f",
             "gridcolor": "white",
             "linecolor": "white",
             "minorgridcolor": "white",
             "startlinecolor": "#2a3f5f"
            },
            "baxis": {
             "endlinecolor": "#2a3f5f",
             "gridcolor": "white",
             "linecolor": "white",
             "minorgridcolor": "white",
             "startlinecolor": "#2a3f5f"
            },
            "type": "carpet"
           }
          ],
          "choropleth": [
           {
            "colorbar": {
             "outlinewidth": 0,
             "ticks": ""
            },
            "type": "choropleth"
           }
          ],
          "contour": [
           {
            "colorbar": {
             "outlinewidth": 0,
             "ticks": ""
            },
            "colorscale": [
             [
              0,
              "#0d0887"
             ],
             [
              0.1111111111111111,
              "#46039f"
             ],
             [
              0.2222222222222222,
              "#7201a8"
             ],
             [
              0.3333333333333333,
              "#9c179e"
             ],
             [
              0.4444444444444444,
              "#bd3786"
             ],
             [
              0.5555555555555556,
              "#d8576b"
             ],
             [
              0.6666666666666666,
              "#ed7953"
             ],
             [
              0.7777777777777778,
              "#fb9f3a"
             ],
             [
              0.8888888888888888,
              "#fdca26"
             ],
             [
              1,
              "#f0f921"
             ]
            ],
            "type": "contour"
           }
          ],
          "contourcarpet": [
           {
            "colorbar": {
             "outlinewidth": 0,
             "ticks": ""
            },
            "type": "contourcarpet"
           }
          ],
          "heatmap": [
           {
            "colorbar": {
             "outlinewidth": 0,
             "ticks": ""
            },
            "colorscale": [
             [
              0,
              "#0d0887"
             ],
             [
              0.1111111111111111,
              "#46039f"
             ],
             [
              0.2222222222222222,
              "#7201a8"
             ],
             [
              0.3333333333333333,
              "#9c179e"
             ],
             [
              0.4444444444444444,
              "#bd3786"
             ],
             [
              0.5555555555555556,
              "#d8576b"
             ],
             [
              0.6666666666666666,
              "#ed7953"
             ],
             [
              0.7777777777777778,
              "#fb9f3a"
             ],
             [
              0.8888888888888888,
              "#fdca26"
             ],
             [
              1,
              "#f0f921"
             ]
            ],
            "type": "heatmap"
           }
          ],
          "heatmapgl": [
           {
            "colorbar": {
             "outlinewidth": 0,
             "ticks": ""
            },
            "colorscale": [
             [
              0,
              "#0d0887"
             ],
             [
              0.1111111111111111,
              "#46039f"
             ],
             [
              0.2222222222222222,
              "#7201a8"
             ],
             [
              0.3333333333333333,
              "#9c179e"
             ],
             [
              0.4444444444444444,
              "#bd3786"
             ],
             [
              0.5555555555555556,
              "#d8576b"
             ],
             [
              0.6666666666666666,
              "#ed7953"
             ],
             [
              0.7777777777777778,
              "#fb9f3a"
             ],
             [
              0.8888888888888888,
              "#fdca26"
             ],
             [
              1,
              "#f0f921"
             ]
            ],
            "type": "heatmapgl"
           }
          ],
          "histogram": [
           {
            "marker": {
             "pattern": {
              "fillmode": "overlay",
              "size": 10,
              "solidity": 0.2
             }
            },
            "type": "histogram"
           }
          ],
          "histogram2d": [
           {
            "colorbar": {
             "outlinewidth": 0,
             "ticks": ""
            },
            "colorscale": [
             [
              0,
              "#0d0887"
             ],
             [
              0.1111111111111111,
              "#46039f"
             ],
             [
              0.2222222222222222,
              "#7201a8"
             ],
             [
              0.3333333333333333,
              "#9c179e"
             ],
             [
              0.4444444444444444,
              "#bd3786"
             ],
             [
              0.5555555555555556,
              "#d8576b"
             ],
             [
              0.6666666666666666,
              "#ed7953"
             ],
             [
              0.7777777777777778,
              "#fb9f3a"
             ],
             [
              0.8888888888888888,
              "#fdca26"
             ],
             [
              1,
              "#f0f921"
             ]
            ],
            "type": "histogram2d"
           }
          ],
          "histogram2dcontour": [
           {
            "colorbar": {
             "outlinewidth": 0,
             "ticks": ""
            },
            "colorscale": [
             [
              0,
              "#0d0887"
             ],
             [
              0.1111111111111111,
              "#46039f"
             ],
             [
              0.2222222222222222,
              "#7201a8"
             ],
             [
              0.3333333333333333,
              "#9c179e"
             ],
             [
              0.4444444444444444,
              "#bd3786"
             ],
             [
              0.5555555555555556,
              "#d8576b"
             ],
             [
              0.6666666666666666,
              "#ed7953"
             ],
             [
              0.7777777777777778,
              "#fb9f3a"
             ],
             [
              0.8888888888888888,
              "#fdca26"
             ],
             [
              1,
              "#f0f921"
             ]
            ],
            "type": "histogram2dcontour"
           }
          ],
          "mesh3d": [
           {
            "colorbar": {
             "outlinewidth": 0,
             "ticks": ""
            },
            "type": "mesh3d"
           }
          ],
          "parcoords": [
           {
            "line": {
             "colorbar": {
              "outlinewidth": 0,
              "ticks": ""
             }
            },
            "type": "parcoords"
           }
          ],
          "pie": [
           {
            "automargin": true,
            "type": "pie"
           }
          ],
          "scatter": [
           {
            "fillpattern": {
             "fillmode": "overlay",
             "size": 10,
             "solidity": 0.2
            },
            "type": "scatter"
           }
          ],
          "scatter3d": [
           {
            "line": {
             "colorbar": {
              "outlinewidth": 0,
              "ticks": ""
             }
            },
            "marker": {
             "colorbar": {
              "outlinewidth": 0,
              "ticks": ""
             }
            },
            "type": "scatter3d"
           }
          ],
          "scattercarpet": [
           {
            "marker": {
             "colorbar": {
              "outlinewidth": 0,
              "ticks": ""
             }
            },
            "type": "scattercarpet"
           }
          ],
          "scattergeo": [
           {
            "marker": {
             "colorbar": {
              "outlinewidth": 0,
              "ticks": ""
             }
            },
            "type": "scattergeo"
           }
          ],
          "scattergl": [
           {
            "marker": {
             "colorbar": {
              "outlinewidth": 0,
              "ticks": ""
             }
            },
            "type": "scattergl"
           }
          ],
          "scattermapbox": [
           {
            "marker": {
             "colorbar": {
              "outlinewidth": 0,
              "ticks": ""
             }
            },
            "type": "scattermapbox"
           }
          ],
          "scatterpolar": [
           {
            "marker": {
             "colorbar": {
              "outlinewidth": 0,
              "ticks": ""
             }
            },
            "type": "scatterpolar"
           }
          ],
          "scatterpolargl": [
           {
            "marker": {
             "colorbar": {
              "outlinewidth": 0,
              "ticks": ""
             }
            },
            "type": "scatterpolargl"
           }
          ],
          "scatterternary": [
           {
            "marker": {
             "colorbar": {
              "outlinewidth": 0,
              "ticks": ""
             }
            },
            "type": "scatterternary"
           }
          ],
          "surface": [
           {
            "colorbar": {
             "outlinewidth": 0,
             "ticks": ""
            },
            "colorscale": [
             [
              0,
              "#0d0887"
             ],
             [
              0.1111111111111111,
              "#46039f"
             ],
             [
              0.2222222222222222,
              "#7201a8"
             ],
             [
              0.3333333333333333,
              "#9c179e"
             ],
             [
              0.4444444444444444,
              "#bd3786"
             ],
             [
              0.5555555555555556,
              "#d8576b"
             ],
             [
              0.6666666666666666,
              "#ed7953"
             ],
             [
              0.7777777777777778,
              "#fb9f3a"
             ],
             [
              0.8888888888888888,
              "#fdca26"
             ],
             [
              1,
              "#f0f921"
             ]
            ],
            "type": "surface"
           }
          ],
          "table": [
           {
            "cells": {
             "fill": {
              "color": "#EBF0F8"
             },
             "line": {
              "color": "white"
             }
            },
            "header": {
             "fill": {
              "color": "#C8D4E3"
             },
             "line": {
              "color": "white"
             }
            },
            "type": "table"
           }
          ]
         },
         "layout": {
          "annotationdefaults": {
           "arrowcolor": "#2a3f5f",
           "arrowhead": 0,
           "arrowwidth": 1
          },
          "autotypenumbers": "strict",
          "coloraxis": {
           "colorbar": {
            "outlinewidth": 0,
            "ticks": ""
           }
          },
          "colorscale": {
           "diverging": [
            [
             0,
             "#8e0152"
            ],
            [
             0.1,
             "#c51b7d"
            ],
            [
             0.2,
             "#de77ae"
            ],
            [
             0.3,
             "#f1b6da"
            ],
            [
             0.4,
             "#fde0ef"
            ],
            [
             0.5,
             "#f7f7f7"
            ],
            [
             0.6,
             "#e6f5d0"
            ],
            [
             0.7,
             "#b8e186"
            ],
            [
             0.8,
             "#7fbc41"
            ],
            [
             0.9,
             "#4d9221"
            ],
            [
             1,
             "#276419"
            ]
           ],
           "sequential": [
            [
             0,
             "#0d0887"
            ],
            [
             0.1111111111111111,
             "#46039f"
            ],
            [
             0.2222222222222222,
             "#7201a8"
            ],
            [
             0.3333333333333333,
             "#9c179e"
            ],
            [
             0.4444444444444444,
             "#bd3786"
            ],
            [
             0.5555555555555556,
             "#d8576b"
            ],
            [
             0.6666666666666666,
             "#ed7953"
            ],
            [
             0.7777777777777778,
             "#fb9f3a"
            ],
            [
             0.8888888888888888,
             "#fdca26"
            ],
            [
             1,
             "#f0f921"
            ]
           ],
           "sequentialminus": [
            [
             0,
             "#0d0887"
            ],
            [
             0.1111111111111111,
             "#46039f"
            ],
            [
             0.2222222222222222,
             "#7201a8"
            ],
            [
             0.3333333333333333,
             "#9c179e"
            ],
            [
             0.4444444444444444,
             "#bd3786"
            ],
            [
             0.5555555555555556,
             "#d8576b"
            ],
            [
             0.6666666666666666,
             "#ed7953"
            ],
            [
             0.7777777777777778,
             "#fb9f3a"
            ],
            [
             0.8888888888888888,
             "#fdca26"
            ],
            [
             1,
             "#f0f921"
            ]
           ]
          },
          "colorway": [
           "#636efa",
           "#EF553B",
           "#00cc96",
           "#ab63fa",
           "#FFA15A",
           "#19d3f3",
           "#FF6692",
           "#B6E880",
           "#FF97FF",
           "#FECB52"
          ],
          "font": {
           "color": "#2a3f5f"
          },
          "geo": {
           "bgcolor": "white",
           "lakecolor": "white",
           "landcolor": "#E5ECF6",
           "showlakes": true,
           "showland": true,
           "subunitcolor": "white"
          },
          "hoverlabel": {
           "align": "left"
          },
          "hovermode": "closest",
          "mapbox": {
           "style": "light"
          },
          "paper_bgcolor": "white",
          "plot_bgcolor": "#E5ECF6",
          "polar": {
           "angularaxis": {
            "gridcolor": "white",
            "linecolor": "white",
            "ticks": ""
           },
           "bgcolor": "#E5ECF6",
           "radialaxis": {
            "gridcolor": "white",
            "linecolor": "white",
            "ticks": ""
           }
          },
          "scene": {
           "xaxis": {
            "backgroundcolor": "#E5ECF6",
            "gridcolor": "white",
            "gridwidth": 2,
            "linecolor": "white",
            "showbackground": true,
            "ticks": "",
            "zerolinecolor": "white"
           },
           "yaxis": {
            "backgroundcolor": "#E5ECF6",
            "gridcolor": "white",
            "gridwidth": 2,
            "linecolor": "white",
            "showbackground": true,
            "ticks": "",
            "zerolinecolor": "white"
           },
           "zaxis": {
            "backgroundcolor": "#E5ECF6",
            "gridcolor": "white",
            "gridwidth": 2,
            "linecolor": "white",
            "showbackground": true,
            "ticks": "",
            "zerolinecolor": "white"
           }
          },
          "shapedefaults": {
           "line": {
            "color": "#2a3f5f"
           }
          },
          "ternary": {
           "aaxis": {
            "gridcolor": "white",
            "linecolor": "white",
            "ticks": ""
           },
           "baxis": {
            "gridcolor": "white",
            "linecolor": "white",
            "ticks": ""
           },
           "bgcolor": "#E5ECF6",
           "caxis": {
            "gridcolor": "white",
            "linecolor": "white",
            "ticks": ""
           }
          },
          "title": {
           "x": 0.05
          },
          "xaxis": {
           "automargin": true,
           "gridcolor": "white",
           "linecolor": "white",
           "ticks": "",
           "title": {
            "standoff": 15
           },
           "zerolinecolor": "white",
           "zerolinewidth": 2
          },
          "yaxis": {
           "automargin": true,
           "gridcolor": "white",
           "linecolor": "white",
           "ticks": "",
           "title": {
            "standoff": 15
           },
           "zerolinecolor": "white",
           "zerolinewidth": 2
          }
         }
        },
        "title": {
         "text": "Max values for X_Accudev"
        }
       }
      }
     },
     "metadata": {},
     "output_type": "display_data"
    }
   ],
   "source": [
    "simulation.showMax('X_Accudev')"
   ]
  }
 ],
 "metadata": {
  "kernelspec": {
   "display_name": "Python 3",
   "language": "python",
   "name": "python3"
  },
  "language_info": {
   "codemirror_mode": {
    "name": "ipython",
    "version": 3
   },
   "file_extension": ".py",
   "mimetype": "text/x-python",
   "name": "python",
   "nbconvert_exporter": "python",
   "pygments_lexer": "ipython3",
   "version": "3.11.8"
  }
 },
 "nbformat": 4,
 "nbformat_minor": 2
}
