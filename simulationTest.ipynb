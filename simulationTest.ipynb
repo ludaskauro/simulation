{
 "cells": [
  {
   "attachments": {},
   "cell_type": "markdown",
   "metadata": {},
   "source": [
    "## Import Packages"
   ]
  },
  {
   "cell_type": "code",
   "execution_count": 1,
   "metadata": {},
   "outputs": [],
   "source": [
    "from BaseBlocks import *\n",
    "from SimulinkBlockClass import SimulinkBlock\n",
    "from SimulationClass import Simulation"
   ]
  },
  {
   "attachments": {},
   "cell_type": "markdown",
   "metadata": {},
   "source": [
    "## Build the model "
   ]
  },
  {
   "cell_type": "code",
   "execution_count": 20,
   "metadata": {},
   "outputs": [
    {
     "name": "stdout",
     "output_type": "stream",
     "text": [
      "\u001b[32mBlock compiled successfully!\u001b[0m\n"
     ]
    }
   ],
   "source": [
    "block = SimulinkBlock('test',['in1','in2'],['out1'])\n",
    "\n",
    "block.addBlock(Add(name='add',pos1='in1',pos2='param2',output='added'))\n",
    "block.addCalibrationParameter(Parameter(name='param2'))\n",
    "\n",
    "block.addConnection(name='in1',data='in1',start=block.blocks['Input'],end=block.blocks['add'])\n",
    "block.addConnection(name='param2',data='param2',start=block.blocks['param2'],end=block.blocks['add'])\n",
    "\n",
    "block.addBlock(Subtract(name='sub',pos='in2',neg='added',output='subtracted'))\n",
    "block.addConnection(name='in2',data='in2',start=block.blocks['Input'],end=block.blocks['sub'])\n",
    "block.addConnection(name='added',data='added',start=block.blocks['add'],end=block.blocks['sub'])\n",
    "\n",
    "block.addCalibrationParameter(Parameter(name='param1'))\n",
    "block.addBlock(Multiply(name='mul',factor1='param1',factor2='subtracted',output='out1'))\n",
    "\n",
    "block.addConnection(name='sub-mul',data='subtracted',start=block.blocks['sub'],end=block.blocks['mul'])\n",
    "block.addConnection(name='param1-mul',data='param1',start=block.blocks['param1'],end=block.blocks['mul'])\n",
    "\n",
    "block.addConnection(name='out1',data='out1',start=block.blocks['mul'],end=block.blocks['Output'])\n",
    "\n",
    "block.compileBlock()"
   ]
  },
  {
   "cell_type": "code",
   "execution_count": 14,
   "metadata": {},
   "outputs": [
    {
     "name": "stdout",
     "output_type": "stream",
     "text": [
      "Calibration parameters for test:\n",
      "    param2 is not calibrated\n",
      "    param1 is not calibrated\n"
     ]
    }
   ],
   "source": [
    "block.getCalibrationInfo()"
   ]
  },
  {
   "attachments": {},
   "cell_type": "markdown",
   "metadata": {},
   "source": [
    "## Visualize the model"
   ]
  },
  {
   "cell_type": "code",
   "execution_count": 21,
   "metadata": {},
   "outputs": [
    {
     "data": {
      "text/html": [
       "\n",
       "        <iframe\n",
       "            width=\"100%\"\n",
       "            height=\"650\"\n",
       "            src=\"http://127.0.0.1:8050/\"\n",
       "            frameborder=\"0\"\n",
       "            allowfullscreen\n",
       "            \n",
       "        ></iframe>\n",
       "        "
      ],
      "text/plain": [
       "<IPython.lib.display.IFrame at 0x15542431590>"
      ]
     },
     "metadata": {},
     "output_type": "display_data"
    }
   ],
   "source": [
    "block.visualizeModel()"
   ]
  },
  {
   "attachments": {},
   "cell_type": "markdown",
   "metadata": {},
   "source": [
    "## Run the simulation"
   ]
  },
  {
   "cell_type": "code",
   "execution_count": 97,
   "metadata": {},
   "outputs": [
    {
     "name": "stdout",
     "output_type": "stream",
     "text": [
      "Calibratable parameters: param2 param1\n",
      "param2 calibrated to [0 1 2 3 4]\n",
      "param1 calibrated to [0 1 2 3 4]\n"
     ]
    }
   ],
   "source": [
    "import pandas as pd\n",
    "\n",
    "data = pd.DataFrame({'in1':np.arange(10_000),'in2':np.arange(10_000)})\n",
    "\n",
    "simulation = Simulation(block,data)\n",
    "\n",
    "simulation.getCalibrationParameters()\n",
    "simulation.setCalibration(param1=[1],param2=[1])\n",
    "\n",
    "simulation.runSimulation()"
   ]
  },
  {
   "cell_type": "code",
   "execution_count": 98,
   "metadata": {},
   "outputs": [],
   "source": [
    "import polars as pl\n",
    "\n",
    "df = pl.scan_parquet('outputs/test/out1/output.parquet').max().collect()\n",
    "#t = df.to_numpy().reshape((101,50))\n",
    "#\n",
    "#import seaborn as sns\n",
    "#\n",
    "#sns.heatmap(t)"
   ]
  }
 ],
 "metadata": {
  "kernelspec": {
   "display_name": "DRO",
   "language": "python",
   "name": "python3"
  },
  "language_info": {
   "codemirror_mode": {
    "name": "ipython",
    "version": 3
   },
   "file_extension": ".py",
   "mimetype": "text/x-python",
   "name": "python",
   "nbconvert_exporter": "python",
   "pygments_lexer": "ipython3",
   "version": "3.11.8"
  },
  "orig_nbformat": 4
 },
 "nbformat": 4,
 "nbformat_minor": 2
}
